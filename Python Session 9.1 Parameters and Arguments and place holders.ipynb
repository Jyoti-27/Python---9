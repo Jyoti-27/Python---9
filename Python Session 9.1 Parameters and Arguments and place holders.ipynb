{
 "cells": [
  {
   "cell_type": "markdown",
   "metadata": {},
   "source": [
    "- Parameters and Arguments"
   ]
  },
  {
   "cell_type": "code",
   "execution_count": 10,
   "metadata": {},
   "outputs": [
    {
     "name": "stdout",
     "output_type": "stream",
     "text": [
      "37 to the power of 4 is 1874161.\n"
     ]
    }
   ],
   "source": [
    "def power(base, exponent):  # Add your parameters here!\n",
    "    result = base ** exponent\n",
    "    print (\"%d to the power of %d is %d.\" % (base, exponent, result))\n",
    "\n",
    "power(37, 4)  # Add your arguments here!\n"
   ]
  },
  {
   "cell_type": "code",
   "execution_count": 4,
   "metadata": {},
   "outputs": [
    {
     "ename": "SyntaxError",
     "evalue": "invalid syntax (<ipython-input-4-e020a5cc9ddf>, line 1)",
     "output_type": "error",
     "traceback": [
      "\u001b[1;36m  File \u001b[1;32m\"<ipython-input-4-e020a5cc9ddf>\"\u001b[1;36m, line \u001b[1;32m1\u001b[0m\n\u001b[1;33m    - % d is used as a placeholder for numeric and decimal values\u001b[0m\n\u001b[1;37m      ^\u001b[0m\n\u001b[1;31mSyntaxError\u001b[0m\u001b[1;31m:\u001b[0m invalid syntax\n"
     ]
    }
   ],
   "source": [
    "- % d is used as a placeholder for numeric and decimal values\n",
    "- The %d is for numbers"
   ]
  },
  {
   "cell_type": "code",
   "execution_count": 21,
   "metadata": {},
   "outputs": [
    {
     "name": "stdout",
     "output_type": "stream",
     "text": [
      "Jyoti is my First Name and Sabarad is my Last Name.\n"
     ]
    }
   ],
   "source": [
    "FirstName=\"Jyoti\"\n",
    "LastName=\"Sabarad\"\n",
    "#Age = 35\n",
    "print(\"%s is my First Name and %s is my Last Name.\" % (FirstName,LastName))"
   ]
  },
  {
   "cell_type": "code",
   "execution_count": 11,
   "metadata": {},
   "outputs": [
    {
     "name": "stdout",
     "output_type": "stream",
     "text": [
      "Jyoti is my first name and Sabarad is my last name\n",
      "My name is Jyoti Sabarad and my age is 35\n"
     ]
    }
   ],
   "source": [
    "firstName =\"Jyoti\"\n",
    "lastName=\"Sabarad\"\n",
    "age=35\n",
    "print(\"%s is my first name and %s is my last name\"%(firstName,lastName))\n",
    "print(\"My name is %s %s and my age is %d\"%(firstName,lastName,age))\n"
   ]
  },
  {
   "cell_type": "markdown",
   "metadata": {},
   "source": [
    "- Arguments"
   ]
  },
  {
   "cell_type": "code",
   "execution_count": 25,
   "metadata": {},
   "outputs": [
    {
     "data": {
      "text/plain": [
       "(3+5j)"
      ]
     },
     "execution_count": 25,
     "metadata": {},
     "output_type": "execute_result"
    }
   ],
   "source": [
    "complex(real=3,imag=5)"
   ]
  },
  {
   "cell_type": "code",
   "execution_count": 26,
   "metadata": {},
   "outputs": [
    {
     "data": {
      "text/plain": [
       "(5+3j)"
      ]
     },
     "execution_count": 26,
     "metadata": {},
     "output_type": "execute_result"
    }
   ],
   "source": [
    "complex(5,3)"
   ]
  },
  {
   "cell_type": "code",
   "execution_count": 28,
   "metadata": {},
   "outputs": [
    {
     "data": {
      "text/plain": [
       "(3+5j)"
      ]
     },
     "execution_count": 28,
     "metadata": {},
     "output_type": "execute_result"
    }
   ],
   "source": [
    "complex(**{'imag': 5,'real': 3})"
   ]
  },
  {
   "cell_type": "code",
   "execution_count": 55,
   "metadata": {},
   "outputs": [
    {
     "name": "stdout",
     "output_type": "stream",
     "text": [
      "JyotiSabaradSabarad\n"
     ]
    }
   ],
   "source": [
    "def fullname(Firstname,Lastname):\n",
    "    result = Firstname + Lastname \n",
    "    print(result)\n",
    "Firstname = \"JyotiSabarad\"\n",
    "Lastname = \"Sabarad\"\n",
    "fullname(Firstname,Lastname)"
   ]
  },
  {
   "cell_type": "code",
   "execution_count": 44,
   "metadata": {},
   "outputs": [
    {
     "name": "stdout",
     "output_type": "stream",
     "text": [
      "Place = Sangli and Pincode = 416416\n",
      "Place = 416406 and Pincode = Madhavnagar\n",
      "Place = Kolhapur and Pincode = 409410\n"
     ]
    }
   ],
   "source": [
    "def Positional_Arguments(Place, Pincode):\n",
    "    print(\"Place = {} and Pincode = {}\".format(Place, Pincode))\n",
    "Positional_Arguments(\"Sangli\", 416416)\n",
    "Positional_Arguments(416406, \"Madhavnagar\")\n",
    "Positional_Arguments(Place = \"Kolhapur\", Pincode = 409410)   #Keyword Arguments\n"
   ]
  },
  {
   "cell_type": "code",
   "execution_count": 43,
   "metadata": {},
   "outputs": [
    {
     "name": "stdout",
     "output_type": "stream",
     "text": [
      "Firstname = Aravind, Lastname = Reddy\n"
     ]
    }
   ],
   "source": [
    "def fullname(Firstname,Lastname):\n",
    "    print(\"Firstname = {}, Lastname = {}\".format(Firstname,Lastname))\n",
    "    \n",
    "fullname(Lastname = \"Reddy\", Firstname = \"Aravind\")\n"
   ]
  },
  {
   "cell_type": "code",
   "execution_count": 56,
   "metadata": {},
   "outputs": [
    {
     "ename": "SyntaxError",
     "evalue": "invalid syntax (<ipython-input-56-7cbe39509b3d>, line 3)",
     "output_type": "error",
     "traceback": [
      "\u001b[1;36m  File \u001b[1;32m\"<ipython-input-56-7cbe39509b3d>\"\u001b[1;36m, line \u001b[1;32m3\u001b[0m\n\u001b[1;33m    fullname(***{Lastname = \"Sabarad\",Firtname = \"Jyoti\"})\u001b[0m\n\u001b[1;37m               ^\u001b[0m\n\u001b[1;31mSyntaxError\u001b[0m\u001b[1;31m:\u001b[0m invalid syntax\n"
     ]
    }
   ],
   "source": [
    "def fullname(Firstname,Lastname):\n",
    "    print(\"Firstname = {}, Lastname = {}\".format(Firstname, Lastname))\n",
    "    fullname(***{Lastname = \"Sabarad\",Firtname = \"Jyoti\"})"
   ]
  },
  {
   "cell_type": "code",
   "execution_count": 46,
   "metadata": {},
   "outputs": [
    {
     "name": "stdout",
     "output_type": "stream",
     "text": [
      "Place = Sangli and Pincode = 416416\n",
      "Place = 416406 and Pincode = Madhavnagar\n",
      "Place = Kolhapur and Pincode = 409410\n",
      "Place = Kolhapur and Pincode = 409410\n"
     ]
    }
   ],
   "source": [
    "def Positional_Arguments(Place, Pincode):\n",
    "    print(\"Place = {} and Pincode = {}\".format(Place, Pincode))\n",
    "Positional_Arguments(\"Sangli\", 416416)\n",
    "Positional_Arguments(416406, \"Madhavnagar\")\n",
    "Positional_Arguments(Place = \"Kolhapur\", Pincode = 409410)   #Keyword Arguments\n",
    "Positional_Arguments(Place = \"Kolhapur\", Pincode = \"409410\")\n"
   ]
  },
  {
   "cell_type": "markdown",
   "metadata": {},
   "source": [
    "- Parameters with Default Argument"
   ]
  },
  {
   "cell_type": "code",
   "execution_count": 50,
   "metadata": {},
   "outputs": [
    {
     "name": "stdout",
     "output_type": "stream",
     "text": [
      "Area of Circle is multiplying the square of the radius r = 5 with pi = 3.14 and the result = 78.5\n"
     ]
    }
   ],
   "source": [
    "def area_circle(r,pi=3.14):\n",
    "    Area = pi*r**2\n",
    "    print(\"Area of Circle is multiplying the square of the radius r = {} with pi = {} and the result = {}\".format(r,pi,Area))\n",
    "area_circle(5)"
   ]
  },
  {
   "cell_type": "code",
   "execution_count": 51,
   "metadata": {},
   "outputs": [
    {
     "name": "stdout",
     "output_type": "stream",
     "text": [
      "Area of rectangle is multiplying the length l = 2 with w = 3 and the result = 6\n"
     ]
    }
   ],
   "source": [
    "def area_rectangle(l,w):\n",
    "    Area = l*w\n",
    "    print(\"Area of rectangle is multiplying the length l = {} with w = {} and the result = {}\".format(l,w,Area))\n",
    "area_rectangle(2,3)"
   ]
  },
  {
   "cell_type": "code",
   "execution_count": 1,
   "metadata": {},
   "outputs": [
    {
     "data": {
      "text/plain": [
       "(3-5j)"
      ]
     },
     "execution_count": 1,
     "metadata": {},
     "output_type": "execute_result"
    }
   ],
   "source": [
    "\n",
    "# Create a complex number 3-5i using keyword arguments and also positional arguments\n",
    "a = 3\n",
    "b = -5\n",
    "complex(a,b)"
   ]
  },
  {
   "cell_type": "code",
   "execution_count": 5,
   "metadata": {},
   "outputs": [
    {
     "name": "stdout",
     "output_type": "stream",
     "text": [
      "(3-5j)\n",
      "(3+4j)\n"
     ]
    }
   ],
   "source": [
    "z1 = complex(3,-5)  # Positional\n",
    "print(z1)\n",
    "z2 = complex(imag = 4, real = 3) # Keywords Arguments\n",
    "print(z2)"
   ]
  },
  {
   "cell_type": "code",
   "execution_count": 6,
   "metadata": {},
   "outputs": [
    {
     "data": {
      "text/plain": [
       "-5.0"
      ]
     },
     "execution_count": 6,
     "metadata": {},
     "output_type": "execute_result"
    }
   ],
   "source": [
    "z1.imag"
   ]
  },
  {
   "cell_type": "code",
   "execution_count": 7,
   "metadata": {},
   "outputs": [
    {
     "ename": "TypeError",
     "evalue": "'float' object is not callable",
     "output_type": "error",
     "traceback": [
      "\u001b[1;31m---------------------------------------------------------------------------\u001b[0m",
      "\u001b[1;31mTypeError\u001b[0m                                 Traceback (most recent call last)",
      "\u001b[1;32m<ipython-input-7-46289500f67c>\u001b[0m in \u001b[0;36m<module>\u001b[1;34m\u001b[0m\n\u001b[1;32m----> 1\u001b[1;33m \u001b[0mz1\u001b[0m\u001b[1;33m.\u001b[0m\u001b[0mimag\u001b[0m\u001b[1;33m(\u001b[0m\u001b[1;33m)\u001b[0m\u001b[1;33m\u001b[0m\u001b[1;33m\u001b[0m\u001b[0m\n\u001b[0m",
      "\u001b[1;31mTypeError\u001b[0m: 'float' object is not callable"
     ]
    }
   ],
   "source": [
    "z1.imag()"
   ]
  },
  {
   "cell_type": "code",
   "execution_count": 9,
   "metadata": {},
   "outputs": [
    {
     "name": "stdout",
     "output_type": "stream",
     "text": [
      "3.0\n",
      "-5.0\n"
     ]
    }
   ],
   "source": [
    "# Here every complex number has certain properties which are called as attributes,characteristicsor features.\n",
    "# Few such attributes are more real and imag which talks about the real and imaginarypart of complex numbers.\n",
    "print(z1.real)\n",
    "print(z1.imag)"
   ]
  },
  {
   "cell_type": "code",
   "execution_count": 10,
   "metadata": {},
   "outputs": [
    {
     "data": {
      "text/plain": [
       "(3+5j)"
      ]
     },
     "execution_count": 10,
     "metadata": {},
     "output_type": "execute_result"
    }
   ],
   "source": [
    "# Using some in built function on this object.\n",
    "# For every complex number,there exists it's conjugate,Conjugate of x+iy is x-iy\n",
    "z1.conjugate()"
   ]
  },
  {
   "cell_type": "code",
   "execution_count": 11,
   "metadata": {},
   "outputs": [
    {
     "ename": "NameError",
     "evalue": "name 'add' is not defined",
     "output_type": "error",
     "traceback": [
      "\u001b[1;31m---------------------------------------------------------------------------\u001b[0m",
      "\u001b[1;31mNameError\u001b[0m                                 Traceback (most recent call last)",
      "\u001b[1;32m<ipython-input-11-0bc10d20f494>\u001b[0m in \u001b[0;36m<module>\u001b[1;34m\u001b[0m\n\u001b[1;32m----> 1\u001b[1;33m \u001b[0madd\u001b[0m\u001b[1;33m(\u001b[0m\u001b[0mz1\u001b[0m\u001b[1;33m,\u001b[0m\u001b[0mz2\u001b[0m\u001b[1;33m)\u001b[0m\u001b[1;33m\u001b[0m\u001b[1;33m\u001b[0m\u001b[0m\n\u001b[0m",
      "\u001b[1;31mNameError\u001b[0m: name 'add' is not defined"
     ]
    }
   ],
   "source": [
    "add(z1,z2)"
   ]
  },
  {
   "cell_type": "code",
   "execution_count": 12,
   "metadata": {},
   "outputs": [
    {
     "ename": "SyntaxError",
     "evalue": "invalid syntax (<ipython-input-12-a7a50c14b190>, line 2)",
     "output_type": "error",
     "traceback": [
      "\u001b[1;36m  File \u001b[1;32m\"<ipython-input-12-a7a50c14b190>\"\u001b[1;36m, line \u001b[1;32m2\u001b[0m\n\u001b[1;33m    df additio(z1,z2)\u001b[0m\n\u001b[1;37m             ^\u001b[0m\n\u001b[1;31mSyntaxError\u001b[0m\u001b[1;31m:\u001b[0m invalid syntax\n"
     ]
    }
   ],
   "source": [
    "# Create a user defined functions to find a sum of complex number.\n",
    "df additio(z1,z2):\n",
    "return z1 + z2\n",
    "addition(z1,z2)"
   ]
  },
  {
   "cell_type": "code",
   "execution_count": 1,
   "metadata": {},
   "outputs": [],
   "source": [
    "def addcomplex(n1,n2):\n",
    "    z = n1 + n2\n",
    "    print(z)\n",
    "    addcomplex(n1,n2)"
   ]
  },
  {
   "cell_type": "code",
   "execution_count": 27,
   "metadata": {},
   "outputs": [
    {
     "name": "stdout",
     "output_type": "stream",
     "text": [
      "The addition result is\n"
     ]
    },
    {
     "data": {
      "text/plain": [
       "(5+2j)"
      ]
     },
     "execution_count": 27,
     "metadata": {},
     "output_type": "execute_result"
    }
   ],
   "source": [
    "z1 = 3 + 5j\n",
    "z2 = 2 - 3j\n",
    "def addi(a,b):\n",
    "    return a + b\n",
    "print(\"The addition result is\")\n",
    "addi(z1,z2)"
   ]
  },
  {
   "cell_type": "code",
   "execution_count": 9,
   "metadata": {},
   "outputs": [
    {
     "name": "stdout",
     "output_type": "stream",
     "text": [
      "(5+7j)\n"
     ]
    }
   ],
   "source": [
    "def sum_comp(num1,num2):\n",
    "    return num1 + num2\n",
    "z1 = complex(2,3)\n",
    "z2 = complex(3,4) \n",
    "print(sum_comp(z1,z2))"
   ]
  },
  {
   "cell_type": "code",
   "execution_count": 3,
   "metadata": {},
   "outputs": [
    {
     "name": "stdout",
     "output_type": "stream",
     "text": [
      "I have watched Bahubali movie4 times in Theatre\n"
     ]
    }
   ],
   "source": [
    "MovieName = \"Bahubali\"\n",
    "Ntimes = 4\n",
    "place = \"Theatre\"\n",
    "print(\"I have watched {} movie{} times in {}\" .format(MovieName,Ntimes,place))"
   ]
  },
  {
   "cell_type": "markdown",
   "metadata": {},
   "source": [
    "### Placeholders in Python\n",
    "\n",
    "What is a Placeholder?\n",
    "\n",
    "- Intuitively, a placeholder is a pre-formatted container into which content can be placed.\n",
    "- If you have a variable in Python or any other type of data type, you can create a placeholder, usually in a print function to reserve a spot for this variable before explicitly saying what the variable is.\n",
    "\n"
   ]
  },
  {
   "cell_type": "code",
   "execution_count": 5,
   "metadata": {},
   "outputs": [
    {
     "name": "stdout",
     "output_type": "stream",
     "text": [
      "My name is Jyoti and my age is 36\n"
     ]
    }
   ],
   "source": [
    "name = \"Jyoti\"\n",
    "age = 36\n",
    "print(\"My name is {} and my age is {}\".format(name,age))"
   ]
  },
  {
   "cell_type": "code",
   "execution_count": 8,
   "metadata": {},
   "outputs": [
    {
     "name": "stdout",
     "output_type": "stream",
     "text": [
      "My name is Jyoti and my age is 36\n"
     ]
    }
   ],
   "source": [
    "name = \"Jyoti\"\n",
    "age = 36\n",
    "print(\"My name is %s and my age is %d\" %(name,age))"
   ]
  },
  {
   "cell_type": "code",
   "execution_count": null,
   "metadata": {},
   "outputs": [],
   "source": []
  }
 ],
 "metadata": {
  "kernelspec": {
   "display_name": "Python 3",
   "language": "python",
   "name": "python3"
  },
  "language_info": {
   "codemirror_mode": {
    "name": "ipython",
    "version": 3
   },
   "file_extension": ".py",
   "mimetype": "text/x-python",
   "name": "python",
   "nbconvert_exporter": "python",
   "pygments_lexer": "ipython3",
   "version": "3.7.6"
  }
 },
 "nbformat": 4,
 "nbformat_minor": 4
}
